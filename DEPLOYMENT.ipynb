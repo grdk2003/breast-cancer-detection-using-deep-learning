{
 "cells": [
  {
   "cell_type": "code",
   "execution_count": 1,
   "id": "85fb68fe",
   "metadata": {},
   "outputs": [
    {
     "name": "stdout",
     "output_type": "stream",
     "text": [
      "WARNING:tensorflow:From C:\\Users\\LIKHITH\\anaconda3\\Lib\\site-packages\\keras\\src\\losses.py:2976: The name tf.losses.sparse_softmax_cross_entropy is deprecated. Please use tf.compat.v1.losses.sparse_softmax_cross_entropy instead.\n",
      "\n"
     ]
    }
   ],
   "source": [
    "import numpy as np\n",
    "from tensorflow import keras\n",
    "from PIL import Image, ImageOps"
   ]
  },
  {
   "cell_type": "code",
   "execution_count": 2,
   "id": "250305e0",
   "metadata": {},
   "outputs": [
    {
     "name": "stdout",
     "output_type": "stream",
     "text": [
      "WARNING:tensorflow:From C:\\Users\\LIKHITH\\anaconda3\\Lib\\site-packages\\keras\\src\\backend.py:1398: The name tf.executing_eagerly_outside_functions is deprecated. Please use tf.compat.v1.executing_eagerly_outside_functions instead.\n",
      "\n",
      "WARNING:tensorflow:From C:\\Users\\LIKHITH\\anaconda3\\Lib\\site-packages\\keras\\src\\layers\\normalization\\batch_normalization.py:979: The name tf.nn.fused_batch_norm is deprecated. Please use tf.compat.v1.nn.fused_batch_norm instead.\n",
      "\n",
      "WARNING:tensorflow:No training configuration found in the save file, so the model was *not* compiled. Compile it manually.\n"
     ]
    }
   ],
   "source": [
    "models = keras.models.load_model('MODELS/LENET.h5')\n",
    "\n",
    "image = Image.open('TEST_IMAGES/sample.png')\n",
    "test_image = \"TEST_IMAGES/sample.png\""
   ]
  },
  {
   "cell_type": "code",
   "execution_count": 3,
   "id": "bd78b12e",
   "metadata": {},
   "outputs": [
    {
     "name": "stderr",
     "output_type": "stream",
     "text": [
      "C:\\Users\\LIKHITH\\AppData\\Local\\Temp\\ipykernel_9380\\252028843.py:5: DeprecationWarning: ANTIALIAS is deprecated and will be removed in Pillow 10 (2023-07-01). Use Resampling.LANCZOS instead.\n",
      "  image = ImageOps.fit(image, size, Image.ANTIALIAS)\n"
     ]
    }
   ],
   "source": [
    "size = (224, 224)\n",
    "\n",
    "data = np.ndarray(shape=(1, 224, 224, 3), dtype=np.float32)\n",
    "\n",
    "image = ImageOps.fit(image, size, Image.ANTIALIAS)\n",
    "\n",
    "image_array = np.asarray(image)\n",
    "\n",
    "normalized_image_array = (image_array.astype(np.float32) / 127.0) - 1\n",
    "\n",
    "data[0] = normalized_image_array\n"
   ]
  },
  {
   "cell_type": "code",
   "execution_count": 4,
   "id": "b8d137fe",
   "metadata": {},
   "outputs": [
    {
     "name": "stdout",
     "output_type": "stream",
     "text": [
      "1/1 [==============================] - 1s 1s/step\n"
     ]
    }
   ],
   "source": [
    "classes = ['benign','malignant', 'normal']\n",
    "\n",
    "prediction = models.predict(data)\n",
    "\n",
    "idd = np.argmax(prediction)\n",
    "\n",
    "a = (classes[idd])"
   ]
  },
  {
   "cell_type": "code",
   "execution_count": 5,
   "id": "46e83f6f",
   "metadata": {},
   "outputs": [],
   "source": [
    "import cv2\n",
    "from tensorflow.keras.models import load_model\n",
    "import numpy as np\n",
    "from PIL import Image\n",
    "import base64\n",
    "from io import BytesIO"
   ]
  },
  {
   "cell_type": "code",
   "execution_count": 6,
   "id": "5160b794",
   "metadata": {},
   "outputs": [],
   "source": [
    "def to_data_uri(pil_image):\n",
    "        data = BytesIO()\n",
    "        pil_image.save(data, \"JPEG\") # pick your format\n",
    "        data64 = base64.b64encode(data.getvalue())\n",
    "        return u'data:img/jpeg;base64,'+data64.decode('utf-8') \n",
    "\n",
    "def to_image(numpy_img):\n",
    "    img = Image.fromarray((numpy_img*255).astype('uint8'), 'L')\n",
    "    return img\n",
    "\n",
    "def read_image(path):\n",
    "        x = cv2.imread(path, cv2.IMREAD_COLOR)\n",
    "        x = cv2.resize(x, (128, 128))\n",
    "        x = x/255.0\n",
    "        x = x.astype(np.float32)\n",
    "        x = np.expand_dims(x, axis=0)\n",
    "        return x"
   ]
  },
  {
   "cell_type": "code",
   "execution_count": 7,
   "id": "bb3dd21e",
   "metadata": {},
   "outputs": [
    {
     "name": "stdout",
     "output_type": "stream",
     "text": [
      "1/1 [==============================] - 1s 978ms/step\n",
      "malignant\n"
     ]
    }
   ],
   "source": [
    "if a == 'benign':\n",
    "    a = 'benign'\n",
    "    models = load_model('MODELS/BENIGN.h5')\n",
    "    y = read_image(test_image)\n",
    "    y_pred = models.predict(y)[0] > 0.5\n",
    "    y_pred = np.squeeze(y_pred, axis=-1)\n",
    "    y_pred = y_pred.astype(np.int32)\n",
    "    pil_image = to_image(y_pred)\n",
    "    image_uri = to_data_uri(pil_image)\n",
    "\n",
    "elif a == 'malignant':\n",
    "    a = 'malignant'\n",
    "    models = load_model('MODELS/MALIGNANT.h5')\n",
    "    y = read_image(test_image)\n",
    "    y_pred = models.predict(y)[0] > 0.5\n",
    "    y_pred = np.squeeze(y_pred, axis=-1)\n",
    "    y_pred = y_pred.astype(np.int32)\n",
    "    pil_image = to_image(y_pred)\n",
    "    image_uri = to_data_uri(pil_image)\n",
    "elif a == 'normal':\n",
    "    a = 'normal'\n",
    "    models = load_model('MODELS/NORMAL.h5')\n",
    "    y = read_image(test_image)\n",
    "    y_pred = models.predict(y)[0] > 0.5\n",
    "    y_pred = np.squeeze(y_pred, axis=-1)\n",
    "    y_pred = y_pred.astype(np.int32)\n",
    "    pil_image = to_image(y_pred)\n",
    "    image_uri = to_data_uri(pil_image)\n",
    "else:\n",
    "    a = 'WRONG INPUT'\n",
    "\n",
    "print(a)"
   ]
  },
  {
   "cell_type": "code",
   "execution_count": 8,
   "id": "e7a98470",
   "metadata": {},
   "outputs": [
    {
     "data": {
      "text/html": [
       "<img src=\"TEST_IMAGES/sample.png\" width=\"300\">"
      ],
      "text/plain": [
       "<IPython.core.display.HTML object>"
      ]
     },
     "metadata": {},
     "output_type": "display_data"
    },
    {
     "data": {
      "text/html": [
       "<img src=\"data:img/jpeg;base64,/9j/4AAQSkZJRgABAQAAAQABAAD/2wBDAAgGBgcGBQgHBwcJCQgKDBQNDAsLDBkSEw8UHRofHh0aHBwgJC4nICIsIxwcKDcpLDAxNDQ0Hyc5PTgyPC4zNDL/wAALCACAAIABAREA/8QAHwAAAQUBAQEBAQEAAAAAAAAAAAECAwQFBgcICQoL/8QAtRAAAgEDAwIEAwUFBAQAAAF9AQIDAAQRBRIhMUEGE1FhByJxFDKBkaEII0KxwRVS0fAkM2JyggkKFhcYGRolJicoKSo0NTY3ODk6Q0RFRkdISUpTVFVWV1hZWmNkZWZnaGlqc3R1dnd4eXqDhIWGh4iJipKTlJWWl5iZmqKjpKWmp6ipqrKztLW2t7i5usLDxMXGx8jJytLT1NXW19jZ2uHi4+Tl5ufo6erx8vP09fb3+Pn6/9oACAEBAAA/APn+iiiiiiiiiiiiiiiiiiiiiiiiiiiiiiiiiiiiiti48KeILXQ49buNFvotMk5W6eBgmDtwxOOFO9cMeGzgE4OMeiiiiiiiiiiiiiivuPwXC1t4F8PQOYy8emWyMY5FdSREo4ZSQw9wSD2rcqnqelWOs2UlnqFtHcQOjoVbqA6MjbSOVJV2XIIOGPrXhfj74B29tZy6n4WafZBE7Pp6oZpZDl2BRiwzjMabcZ2qT87/ACt4JPC1tcSwOYy8blGMciupIOOGUkMPcEg9qjooooooooorsPA3w313x5PKdPh8qxi3JJey4EaSbCyr1yckKDtDFQwJHTP2fXi/xN1HVNC+JmmappsPmXH2SMWsci7kuJVS9GwL5yb2/eKOFZh5i4ILBJfaKK+ZPjDaeG7bxLfTQPGZEQK9tK0zyrPKb1nZUaVdieZ5TnAK/vEcAqxWTxuiiiiiiiiuk8AabpGsePNG07XWkGn3NwI3CEguxB2JkDIDPtUkYwCeR1H2nYWNvpmnW1hZx+Xa2sSQwpuJ2ooAUZPJwAOtWKjkghmeF5Yo3eF98TMoJRtpXK+h2swyOxI71JRXz/8AH7wdoVpBH4jXU/seoS/uo9O2l1umL7mZBn93je7scbSxHRmJbwCiiiiiiiiivvuCeG6t4ri3ljmglQPHJGwZXUjIII4II5zUlFFFfDHifxPqni7XJtX1efzbiThVXhIkHREHZRk/mSSSSTj0UUUUUUUUV9n/AA38dW/jzwvFfZgj1KL93fWsTE+U+Tg4PO1gNw69xklTXYUUV4H8c/ifD9nm8IaFdyGcvt1K4hYBQuCDBnqSTjdgjGNpzlgPnyiiiiiiiiiitDRNb1Hw5rEGraTcfZ76Dd5cuxX27lKnhgQeCRyK9/0T9o7R/wCx4P7f02+/tP5vO+wQJ5P3jt275d33duc980az+0jo6ac/9h6NfS3xyF+3BI404OGOxmLYOPl+XIz8wryzxX8X/F/i23NpcXkdjZsm2S2sFaJZeGB3EksQQ2CudpwOM81wdFFFFFFFFFFFFFFFFFFFFFFFFFFFFFFFFFFFFFFFFFFFFFFFFFFFFFFFFFFFFFFFFFFFFFFFFFFFFFFFFFFFFFFFFFFFFFFFFFFFFFFFFFFFFFFFFFFFFFFf/9k=\" width=\"300\">"
      ],
      "text/plain": [
       "<IPython.core.display.HTML object>"
      ]
     },
     "metadata": {},
     "output_type": "display_data"
    }
   ],
   "source": [
    "from IPython.display import display, HTML\n",
    "import matplotlib.pyplot as plt\n",
    "\n",
    "html_output = f'<img src=\"{image_uri}\" width=\"300\">'\n",
    "html_output1 = f'<img src=\"{test_image}\" width=\"300\">'\n",
    "display(HTML(html_output1), HTML(html_output))\n"
   ]
  }
 ],
 "metadata": {
  "kernelspec": {
   "display_name": "Python 3 (ipykernel)",
   "language": "python",
   "name": "python3"
  },
  "language_info": {
   "codemirror_mode": {
    "name": "ipython",
    "version": 3
   },
   "file_extension": ".py",
   "mimetype": "text/x-python",
   "name": "python",
   "nbconvert_exporter": "python",
   "pygments_lexer": "ipython3",
   "version": "3.11.5"
  }
 },
 "nbformat": 4,
 "nbformat_minor": 5
}
